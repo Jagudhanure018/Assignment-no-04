{
 "cells": [
  {
   "cell_type": "code",
   "execution_count": null,
   "id": "6bfe596b",
   "metadata": {},
   "outputs": [],
   "source": []
  },
  {
   "cell_type": "code",
   "execution_count": null,
   "id": "9106a694",
   "metadata": {},
   "outputs": [],
   "source": [
    "Q.1 Write a Python program to create a lambda function that adds\n",
    "25 to a given number passed in as an argument.\n",
    "\n"
   ]
  },
  {
   "cell_type": "code",
   "execution_count": 9,
   "id": "22b4fc18",
   "metadata": {},
   "outputs": [
    {
     "name": "stdout",
     "output_type": "stream",
     "text": [
      "35\n"
     ]
    }
   ],
   "source": [
    "s = lambda x : x + 25\n",
    "  \n",
    "print(s(10))\n"
   ]
  },
  {
   "cell_type": "code",
   "execution_count": 13,
   "id": "c4424d86",
   "metadata": {},
   "outputs": [
    {
     "name": "stdout",
     "output_type": "stream",
     "text": [
      "35\n"
     ]
    }
   ],
   "source": [
    "def my_func(a):\n",
    "    return lambda x : x + a\n",
    "print(s(10))"
   ]
  },
  {
   "cell_type": "code",
   "execution_count": 15,
   "id": "59dcae62",
   "metadata": {},
   "outputs": [
    {
     "data": {
      "text/plain": [
       "35"
      ]
     },
     "execution_count": 15,
     "metadata": {},
     "output_type": "execute_result"
    }
   ],
   "source": [
    "(lambda x,y: x+y)(25,10)"
   ]
  },
  {
   "cell_type": "code",
   "execution_count": null,
   "id": "4340b621",
   "metadata": {},
   "outputs": [],
   "source": []
  }
 ],
 "metadata": {
  "kernelspec": {
   "display_name": "Python 3 (ipykernel)",
   "language": "python",
   "name": "python3"
  },
  "language_info": {
   "codemirror_mode": {
    "name": "ipython",
    "version": 3
   },
   "file_extension": ".py",
   "mimetype": "text/x-python",
   "name": "python",
   "nbconvert_exporter": "python",
   "pygments_lexer": "ipython3",
   "version": "3.10.0"
  }
 },
 "nbformat": 4,
 "nbformat_minor": 5
}
